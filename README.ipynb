{
 "cells": [
  {
   "attachments": {},
   "cell_type": "markdown",
   "metadata": {},
   "source": [
    "# Imagenet Training\n",
    "\n",
    "## Setup\n",
    "\n",
    "This is a small repository showing the use of the webdataset library for training models on the Imagenet dataset.\n",
    "\n",
    "To start, you need to convert the Imagenet dataset to shards:\n",
    "\n",
    "```\n",
    "$ mkdir shards\n",
    "$ python3 convert-image.py /.../imagenet-data\n",
    "```\n",
    "\n",
    "This should generate a large number of shards in the `./shards` subdirectory.\n"
   ]
  },
  {
   "cell_type": "code",
   "execution_count": 4,
   "metadata": {},
   "outputs": [
    {
     "name": "stdout",
     "output_type": "stream",
     "text": [
      "imagenet-train-{000000..001281}.tar\n",
      "imagenet-val-{000000..000049}.tar\n"
     ]
    }
   ],
   "source": [
    "!ls shards | shardsum"
   ]
  },
  {
   "attachments": {},
   "cell_type": "markdown",
   "metadata": {},
   "source": [
    "You first need to install a virtual environment:\n",
    "\n",
    "```\n",
    "$ ./run-venv\n",
    "...\n",
    "$ . ./venv/bin/activate\n",
    "$ \n",
    "```\n",
    "\n",
    "You can then run `jupyter lab` and explore the notebooks or run command line programs.\n",
    "\n",
    "You have several ways of running Imagenet training:\n",
    "\n",
    "- `./run-local` will run single GPU training\n",
    "- `ray-demo.ipynb` shows how to use Ray for multinode training\n",
    "- `ssh-demo.ipynb` shows how to run distributed multinode training directly\n",
    "- `./run-ray` runs multinode training using Ray from the command line"
   ]
  },
  {
   "attachments": {},
   "cell_type": "markdown",
   "metadata": {},
   "source": [
    "## Data Serving\n",
    "\n",
    "In order to avoid having to distribute the data, the scripts will start up an nginx-based web server serving the data shards using `docker run`. You need to have `docker` installed for this to work."
   ]
  },
  {
   "attachments": {},
   "cell_type": "markdown",
   "metadata": {},
   "source": [
    "## Ray-Based Training\n",
    "\n",
    "Ray is a convenient Python-based distributed computing platform. It is probably less common for starting up multi-node training jobs, but it is very convenient and it's the easiest of the different systems to package.\n",
    "\n",
    "For the Ray demos, you need to start up Ray. You can do that from the command line:\n",
    "\n",
    "```\n",
    "$ ray start --head\n",
    "...\n",
    "$ ssh host1 \"cd /some/dir && . ./venv/bin/activate && ray start --address=http://$(hostname -i):6379\"\n",
    "$ ...\n",
    "```\n",
    "\n",
    "This creates a compute cluster on a local network of machines. Note that this repository needs to be installed on all machines.\n",
    "\n",
    "You can check the cluster status with:\n",
    "\n",
    "```\n",
    "$ ray status\n",
    "```\n",
    "\n",
    "Once the cluster is up and running, all the Ray-based training will run automatically and you can just start up, say, `./run-ray`. It will query the cluster for available GPUs and start training automatically."
   ]
  },
  {
   "attachments": {},
   "cell_type": "markdown",
   "metadata": {},
   "source": [
    "## SSH-Based Training\n",
    "\n",
    "There are a couple of examples of SSH-based startup of the distributed training jobs. This is fairly cumbersome to do manually, but you can obviously automate it for your environment.\n",
    "\n",
    "The more usual way of performing this kind of training is using a container management system like Kubernetes or NGC, in combination with `torchrun`. The command line program is identical to the command line program using ssh-based training, but the environment variables are set for you automatically."
   ]
  },
  {
   "attachments": {},
   "cell_type": "markdown",
   "metadata": {},
   "source": [
    "## Distributed Training Modes\n",
    "\n",
    "A fundamental problem with multinode distributed training is that it is difficult for multiple nodes to have exactly the same number of training batches, since the number of shards may not be evenly divisible by the number of nodes and workers, and since shards may not all contain the same number of samples.\n",
    "\n",
    "There are two common ways of dealing with this:\n",
    "\n",
    "1. resampling: each worker picks one of the shards at random and returns samples from this; this leads to some samples being duplicated during each epoch, but is still statistically sound. This is the default. It works well for large datasets and large numbers of shards.\n",
    "2. exact epochs with `Join`: the shards are split between all the compute nodes and workers and each worker iterates through its data until it runs out; at the end of training, batches become smaller as some of the GPUs have run out of training data. This ensures that each training sample is presented exactly once during each epoch. It differs from \"traditional\" single GPU training in that batch size is slightly variable. This mode can be enabled with the `--splitshards` argument.\n",
    "\n",
    "Please see the code for how these different modes are enabled. The command line interface and data loaders are defined in `imagenet.py`, and the training loop itself is in `utils.py`."
   ]
  },
  {
   "cell_type": "markdown",
   "metadata": {},
   "source": []
  }
 ],
 "metadata": {
  "kernelspec": {
   "display_name": "venv",
   "language": "python",
   "name": "python3"
  },
  "language_info": {
   "codemirror_mode": {
    "name": "ipython",
    "version": 3
   },
   "file_extension": ".py",
   "mimetype": "text/x-python",
   "name": "python",
   "nbconvert_exporter": "python",
   "pygments_lexer": "ipython3",
   "version": "3.10.6"
  },
  "orig_nbformat": 4,
  "vscode": {
   "interpreter": {
    "hash": "a5b3a2b03d8d54c67e0d63d67d774e2648cc65039d8e8571334bfe0264e04b6b"
   }
  }
 },
 "nbformat": 4,
 "nbformat_minor": 2
}
