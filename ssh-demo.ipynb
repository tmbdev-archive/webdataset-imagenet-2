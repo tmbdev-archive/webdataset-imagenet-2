{
 "cells": [
  {
   "cell_type": "code",
   "execution_count": null,
   "metadata": {
    "vscode": {
     "languageId": "shellscript"
    }
   },
   "outputs": [],
   "source": [
    "import os\n",
    "import multiprocessing as mp\n",
    "import time\n",
    "\n",
    "all_procs = []\n",
    "\n",
    "def background(command):\n",
    "    proc = mp.Process(target=os.system, args=(command,))\n",
    "    all_procs.append(proc)\n",
    "    proc.start()\n",
    "    \n",
    "def kill_all():\n",
    "    for proc in all_procs:\n",
    "        proc.terminate()"
   ]
  },
  {
   "cell_type": "markdown",
   "metadata": {},
   "source": [
    "# Sharded Dataset\n",
    "\n",
    "For the subsequent code, we assume that the Imagenet shards are stored in ./shards.\n",
    "\n",
    "If the shards do not exist, we generate them directly from the original Imagenet data using a small script."
   ]
  },
  {
   "cell_type": "code",
   "execution_count": null,
   "metadata": {
    "vscode": {
     "languageId": "shellscript"
    }
   },
   "outputs": [],
   "source": [
    "%%bash\n",
    "test -f shards/imagenet-train-000000.tar || {\n",
    "    mkdir shards\n",
    "    python3 ./convert-imagenet.py ./imagenet-data ./shards\n",
    "}"
   ]
  },
  {
   "cell_type": "markdown",
   "metadata": {},
   "source": [
    "# Data Server\n",
    "\n",
    "Since we are implementing distributed training, we need to be able to retrieve shards over the network.\n",
    "\n",
    "Here, we use a small web server to serve the shards; the web server is simply nginx running in a Docker container.\n",
    "\n",
    "In practice, you would use some kind of permanently installed web server, or even better the AIStore object store."
   ]
  },
  {
   "cell_type": "code",
   "execution_count": null,
   "metadata": {
    "vscode": {
     "languageId": "shellscript"
    }
   },
   "outputs": [],
   "source": [
    "%%bash\n",
    "docker ps | awk '$2==\"nginx\"{print $1}' | xargs docker kill"
   ]
  },
  {
   "cell_type": "code",
   "execution_count": null,
   "metadata": {
    "vscode": {
     "languageId": "shellscript"
    }
   },
   "outputs": [],
   "source": [
    "%%bash\n",
    "imagenetdir=/media/tmb/data1/gs/nvdata-imagenet\n",
    "docker run -it --rm -d -p 8080:80 --name web -v $imagenetdir:/usr/share/nginx/html nginx"
   ]
  },
  {
   "cell_type": "code",
   "execution_count": null,
   "metadata": {
    "vscode": {
     "languageId": "shellscript"
    }
   },
   "outputs": [],
   "source": [
    "!curl http://$(hostname -i):8080/imagenet-train-000000.tar | tar tvf - | tail"
   ]
  },
  {
   "cell_type": "markdown",
   "metadata": {},
   "source": [
    "# Training Jobs\n",
    "\n",
    "here, we are just starting up the distributed training jobs using ssh.\n",
    "This requires setting environment variables MASTER_ADDR, MASTER_PORT, RANK, and WORLD_SIZE.\n",
    "We put RANK=0 on the local machine."
   ]
  },
  {
   "cell_type": "code",
   "execution_count": null,
   "metadata": {
    "vscode": {
     "languageId": "shellscript"
    }
   },
   "outputs": [],
   "source": [
    "%%bash\n",
    ". ./venv/bin/activate"
   ]
  },
  {
   "cell_type": "code",
   "execution_count": null,
   "metadata": {
    "vscode": {
     "languageId": "shellscript"
    }
   },
   "outputs": [],
   "source": [
    "background(\"\"\"\n",
    "ssh sedna \"cd $(/bin/pwd) && . ./venv/bin/activate && env MASTER_ADDR=$(hostname -i) MASTER_PORT=29500 RANK=1 WORLD_SIZE=2 python3 imagenet.py train --verbose --bucket=http://$(hostname -i):8080/ --mname=resnet18 --backend=gloo\"\n",
    "\"\"\")"
   ]
  },
  {
   "cell_type": "code",
   "execution_count": null,
   "metadata": {
    "vscode": {
     "languageId": "shellscript"
    }
   },
   "outputs": [],
   "source": [
    "%%bash \n",
    "env MASTER_ADDR=$(hostname -i) MASTER_PORT=29500 RANK=0 WORLD_SIZE=2 \\\n",
    "python3 imagenet.py train --verbose --bucket=http://$(hostname -i):8080/ --mname=resnet18 --backend=gloo"
   ]
  }
 ],
 "metadata": {
  "kernelspec": {
   "display_name": "Python 3.10.6 ('venv': venv)",
   "language": "python",
   "name": "python3"
  },
  "language_info": {
   "codemirror_mode": {
    "name": "ipython",
    "version": 3
   },
   "file_extension": ".py",
   "mimetype": "text/x-python",
   "name": "python",
   "nbconvert_exporter": "python",
   "pygments_lexer": "ipython3",
   "version": "3.10.6"
  },
  "orig_nbformat": 4,
  "vscode": {
   "interpreter": {
    "hash": "e4bcf1c9b208164f37ac7931ad36e4bb0817a209136db5032682a51fb7927afc"
   }
  }
 },
 "nbformat": 4,
 "nbformat_minor": 2
}
